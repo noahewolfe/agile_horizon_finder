{
 "cells": [
  {
   "cell_type": "code",
   "execution_count": null,
   "id": "52cd56fa",
   "metadata": {},
   "outputs": [],
   "source": [
    "import numpy as np\n",
    "import scipy.constants\n",
    "import matplotlib.pyplot as plt\n",
    "\n",
    "from tqdm import tqdm\n",
    "\n",
    "import os\n",
    "import subprocess"
   ]
  },
  {
   "cell_type": "markdown",
   "id": "0970b41e",
   "metadata": {},
   "source": [
    "# Load Data"
   ]
  },
  {
   "cell_type": "code",
   "execution_count": null,
   "id": "478aef7d",
   "metadata": {},
   "outputs": [],
   "source": [
    "def cgs_to_geo(data): # these are SI-ish geometric units, not cgs-ish geometric units\n",
    "    data_geo = np.copy(data)\n",
    "    data_geo[:,:,0] = data[:,:,0] * 1E-2 # radius [m]\n",
    "    data_geo[:,:,1] = data[:,:,1] * 1E-2 / scipy.constants.c # velocity [cm/s] -> velocity []\n",
    "    data_geo[:,:,2] = data[:,:,2] * 1E-3 * ( scipy.constants.G / scipy.constants.c**2 ) # grav. mass [g] -> grav. mass [m]\n",
    "    data_geo[:,:,3] = data[:,:,3] * (1E-3 / (1E-2)**3 ) * ( scipy.constants.G / scipy.constants.c**2 ) # density [g/cm^3] -> density [1/m^2] \n",
    "    return data_geo\n",
    "\n",
    "def load_data(run_dir):\n",
    "    N_zones = 180\n",
    "    \n",
    "    data_dir = os.path.join(run_dir, \"data\")\n",
    "    stp_paths = [\n",
    "        os.path.join(data_dir, d) \n",
    "        for d in os.listdir(data_dir) \n",
    "        if \"stp\" in d\n",
    "    ]\n",
    "\n",
    "    stp_paths.sort()\n",
    "\n",
    "    N_stp = len(stp_paths)\n",
    "    \n",
    "    data = np.zeros(( N_stp, N_zones, 6 ))\n",
    "\n",
    "    times = np.zeros(N_stp)\n",
    "\n",
    "    for i in tqdm(range(N_stp)):\n",
    "        stp_path = stp_paths[i]\n",
    "\n",
    "        time_str = subprocess.check_output(\n",
    "            \"grep 'time' %s\" % stp_path, shell=True\n",
    "        ).decode(\"utf-8\")\n",
    "\n",
    "        times[i] = float(time_str[ time_str.index(\"time:\")+6: ])\n",
    "\n",
    "        stp_data = np.genfromtxt(stp_path, skip_header=10, skip_footer=180)\n",
    "\n",
    "        # radius [cm]\n",
    "        data[i,:,0] = stp_data[:,2]\n",
    "\n",
    "        # velocity [cm/s]\n",
    "        data[i,:,1] = stp_data[:,3]\n",
    "\n",
    "        # grav. mass [g]\n",
    "        data[i,:,2] = stp_data[:,4]\n",
    "\n",
    "        #for j in range(1,N_zones):\n",
    "        #    data[i,j,2] -= np.sum( stp_data[0:j,4] )\n",
    "\n",
    "        # rest mass density [g/cm^3]\n",
    "        data[i,:,3] = stp_data[:,5]\n",
    "\n",
    "        # lapse\n",
    "        data[i,:,4] = stp_data[:,8]\n",
    "                        \n",
    "    # load bounce time\n",
    "    with open( os.path.join(run_dir, \"bounce_time.d\") ) as bounce_file:\n",
    "        bounce_time = float( bounce_file.read() )\n",
    "        \n",
    "    data_geo = cgs_to_geo(data)\n",
    "    \n",
    "    return data, data_geo, times, bounce_time"
   ]
  },
  {
   "cell_type": "code",
   "execution_count": null,
   "id": "cac95d29",
   "metadata": {},
   "outputs": [],
   "source": [
    "#run_dir = \"./s15.0_trise400_k4.3\"\n",
    "exp_data, exp_data_geo, exp_times, exp_bounce_time = load_data(\"./s15.0_trise400_k4.3\")\n",
    "bh_data,  bh_data_geo,  bh_times,  bh_bounce_time  = load_data(\"./s22.2_trise400_k4.3\")"
   ]
  },
  {
   "cell_type": "markdown",
   "id": "2809fccc",
   "metadata": {},
   "source": [
    "## Calculate $\\Gamma$\n",
    "Note, this is not the adiabatic index.\n",
    "In geometric units, from eqn. (7.7) of Liebendorfer's Thesis,\n",
    "$$\\Gamma = \\sqrt{ 1 + u^2 - 2m /r }$$\n",
    "where $u$ is the velocity, $r$ is the radius, and $m$ the gravitational mass."
   ]
  },
  {
   "cell_type": "code",
   "execution_count": null,
   "id": "51e17170",
   "metadata": {},
   "outputs": [],
   "source": [
    "def agile_gamma(mass_geo, velocity_geo, radius_geo):\n",
    "    \"\"\"\n",
    "    Calculates the Gamma term defined in equation (7.7), Appendix 7 of \n",
    "    Liebendorfer's thesis (https://ui.adsabs.harvard.edu/abs/2000PhDT.......311L/abstract).\n",
    "    \n",
    "    Arguments\n",
    "    =========\n",
    "    mass_geo: float or float ndarray, gravitational mass in geometric units,\n",
    "        in a single zone or all zones we want to calculate Gamma at.\n",
    "    velocity_geo: float or float ndarray, velocity term u in geometric units (defined in \n",
    "        Appendix 7 of Liebendorfer's thesis; %au of the state_vector type in PUSH.)\n",
    "    radius_geo: float or float ndarray, radius in geometric units\n",
    "    \n",
    "    Returns\n",
    "    =======\n",
    "    float or float ndarray: Gamma in the single zone or list of zones that we so desire\n",
    "        to know it at.\n",
    "    \"\"\"\n",
    "    \n",
    "    return np.sqrt(\n",
    "        1 + velocity_geo**2 - (2 * mass_geo) / radius_geo\n",
    "    )\n",
    "    \n",
    "exp_data_geo[:,1:,5] = agile_gamma(\n",
    "    exp_data_geo[:,1:,2], exp_data_geo[:,1:,1], exp_data_geo[:,1:,0]\n",
    ")\n",
    "\n",
    "bh_data_geo[:,1:,5] = agile_gamma(\n",
    "    bh_data_geo[:,1:,2], bh_data_geo[:,1:,1], bh_data_geo[:,1:,0]\n",
    ")"
   ]
  },
  {
   "cell_type": "code",
   "execution_count": null,
   "id": "1c4645fb",
   "metadata": {},
   "outputs": [],
   "source": [
    "fig, ax = plt.subplots(figsize=(12,8),dpi=300)\n",
    "\n",
    "stp_idx = -1\n",
    "\n",
    "ax.plot( np.log10(bh_data[stp_idx,1:,0]), bh_data[stp_idx,1:,4] )\n",
    "ax.set_xlabel(r\"$\\log_{10}(r)$ [cm]\", fontsize=17.5)\n",
    "ax.set_ylabel(r\"$\\alpha$\", fontsize=17.5)"
   ]
  },
  {
   "cell_type": "code",
   "execution_count": null,
   "id": "2bf2b211",
   "metadata": {},
   "outputs": [],
   "source": [
    "fig, ax = plt.subplots(figsize=(12,8),dpi=300)\n",
    "\n",
    "stp_idx = -1\n",
    "\n",
    "ax.plot( np.log10(exp_data[stp_idx,1:,0]), exp_data[stp_idx,1:,4] )\n",
    "ax.set_xlabel(r\"$\\log_{10}(r)$ [cm]\", fontsize=17.5)\n",
    "ax.set_ylabel(r\"$\\alpha$\", fontsize=17.5)"
   ]
  },
  {
   "cell_type": "markdown",
   "id": "a8dccdfa",
   "metadata": {},
   "source": [
    "# Calculate Apparent Horizon Condition\n",
    "\n",
    "From Alcubierre, eqn. (6.7.15) gives us the expansion H in spherical symmetry as\n",
    "$$H = \\frac{1}{\\sqrt{A}} \\left( \\frac{2}{r} + \\frac{\\partial_r B}{B} \\right) - 2 K^{\\theta}_{\\theta}$$\n",
    "\n",
    "With the condition that an apparent horizon forms when $H = 0$.\n",
    "\n",
    "From the PUSH_GR overleaf, I found $B(r,t) = 1$, $A(r,t) = \\Gamma^{-2}$. Further, in `./mathematica/kthetatheta_agile.nb`, I found $K^{\\theta}_{\\theta}$ and in `./mathematica/kthetatheta_agile.nb` found a simple expression for $H$ with all of these values. It turns out that this was not a differential equation, and so we're able to more easily evaluate H at each timestep and zone of the model.\n",
    "\n",
    "**However, we found the above didn't yield the behaviour in expansion wrt radius that we expected,** so I rederived it in AGILE coordinates, as described in detail in the PUSH_GR overleaf. I derived this simple relation, which we further found confirmed in Section 4.4.3 of Liebendorfer's thesis:\n",
    "$$ H = -\\frac{2}{r} \\left( \\Gamma + \\frac{\\partial_t r}{\\alpha} \\right),$$\n",
    "which further reduces to a condition for apparent horizons, $H = 0$, i.e.\n",
    "$$ \\Gamma + u = 0 $$"
   ]
  },
  {
   "cell_type": "code",
   "execution_count": null,
   "id": "443b91b0",
   "metadata": {},
   "outputs": [],
   "source": [
    "def H(data_geo):\n",
    "    \"\"\"\n",
    "    Calculate the expansion H at the given times, and zones, of the star.\n",
    "    Note that this excludes calculating H at the central zone, as\n",
    "    Gamma cannot be calculated in the central zone (as r = 0 in this zone\n",
    "    in AGILE).\n",
    "    \n",
    "    **Technically, this isn't actually the expansion, but the \n",
    "    apparent horizon condition!** See above markdown cell for the full\n",
    "    expansion expression.\n",
    "    \n",
    "    Parameters \n",
    "    ==========\n",
    "    data_geo: float ndarray (N_stp, N_zones, {hydro variables}) of \n",
    "        hydrodynamic data in geometric units, where final index is \n",
    "        constructed such that 0 is the radius, 1 is the velocity u,\n",
    "        and 5 is Gamma (see Gamma calculation function above).\n",
    "    \n",
    "    \n",
    "    Returns\n",
    "    =======\n",
    "    float ndarray (N_stp, N_zones - 1): expansion in zones 2 - 180\n",
    "        (excluding the first zone, labeled 1 in AGILE).\n",
    "    \"\"\"    \n",
    "    N_stp = data_geo.shape[0]\n",
    "    H = np.zeros(( N_stp, 179 ))\n",
    "\n",
    "    r = data_geo[:,1:,0]\n",
    "    gamma = data_geo[:,1:,5]\n",
    "    velocity = data_geo[:,1:,1]\n",
    "    \n",
    "    H[:,:] = gamma + velocity\n",
    "    return H"
   ]
  },
  {
   "cell_type": "code",
   "execution_count": null,
   "id": "bdf73946",
   "metadata": {},
   "outputs": [],
   "source": [
    "exp_H = H(exp_data_geo)\n",
    "bh_H  = H(bh_data_geo)"
   ]
  },
  {
   "cell_type": "code",
   "execution_count": null,
   "id": "65ef24fb",
   "metadata": {},
   "outputs": [],
   "source": [
    "fig, ax = plt.subplots(figsize=(12,8))\n",
    "\n",
    "ax.plot( exp_data_geo[-1,1:,0], exp_data_geo[-1,1:,5], marker=\"o\", label=\"Gamma\" )\n",
    "ax.plot( exp_data_geo[-1,1:,0], exp_data_geo[-1,1:,1], marker=\"o\", label=\"velocity\" )\n",
    "\n",
    "plt.legend()"
   ]
  },
  {
   "cell_type": "markdown",
   "id": "e03de2c3",
   "metadata": {},
   "source": [
    "## Plot H at a single timestep"
   ]
  },
  {
   "cell_type": "code",
   "execution_count": null,
   "id": "d6a329a8",
   "metadata": {},
   "outputs": [],
   "source": [
    "def plot_H_timestep(x, H, stp_idx, times, bounce_time, xlabel=None, ylabel=\"Expansion $H$\", ylim=None, model_label=\" \"):\n",
    "    t = times[stp_idx]\n",
    "    t_pb = t - bounce_time\n",
    "    \n",
    "    ### Plot formatting\n",
    "    fig, ax = plt.subplots(figsize=(12,8), dpi=300)\n",
    "    \n",
    "    ax.tick_params(labelsize=17.5)\n",
    "    \n",
    "    ax.set_xlabel(xlabel, fontsize=17.5)\n",
    "    ax.set_ylabel(ylabel, fontsize=17.5)\n",
    "    ax.set_title( \"Time = %.5f s, %.5f s post-bounce \\n %s\" % (times[stp_idx], times[stp_idx] - bounce_time, model_label) )\n",
    "    \n",
    "    if ylim is not None:\n",
    "        ax.set_ylim(ylim)\n",
    "    \n",
    "    ### Plotting\n",
    "    ax.axhline(y=0, linestyle=\"--\", color=\"black\")\n",
    "    ax.plot( x[stp_idx,:], H[stp_idx,:], marker=\"o\" , markersize=5)\n",
    "    \n",
    "    return fig, ax"
   ]
  },
  {
   "cell_type": "code",
   "execution_count": null,
   "id": "dcc2433f",
   "metadata": {},
   "outputs": [],
   "source": [
    "# load shock radius info\n",
    "s15_rt_path = os.path.join(\"./s15.0_trise400_k4.3\", \"radii_and_timescales.d\")\n",
    "s22_rt_path = os.path.join(\"./s22.2_trise400_k4.3\", \"radii_and_timescales.d\")\n",
    "\n",
    "s15_rt_data = np.genfromtxt(s15_rt_path, skip_header=1)\n",
    "s22_rt_data = np.genfromtxt(s22_rt_path, skip_header=1)"
   ]
  },
  {
   "cell_type": "code",
   "execution_count": null,
   "id": "a5af26c6",
   "metadata": {},
   "outputs": [],
   "source": [
    "# 2, 70, 1000"
   ]
  },
  {
   "cell_type": "code",
   "execution_count": null,
   "id": "0bb60cb9",
   "metadata": {},
   "outputs": [],
   "source": [
    "stp_idx = 1000\n",
    "fig, ax = plot_H_timestep( \n",
    "    np.log10(exp_data[:,1:,0]), exp_H, \n",
    "    stp_idx, \n",
    "    exp_times, exp_bounce_time, \n",
    "    xlabel=r\"$\\log_{10}(r)$ [cm]\",\n",
    "    model_label=\"s15 (exploding)\",\n",
    "    #ylim=(-10,10)\n",
    ")\n",
    "\n",
    "# get the idx of the pb-time\n",
    "t_pb = exp_times[stp_idx] - exp_bounce_time\n",
    "t_pb_idx = np.abs( s15_rt_data[:,0] - t_pb ).argmin()\n",
    "\n",
    "shock_radius = s15_rt_data[t_pb_idx,2]\n",
    "\n",
    "ax.axvline( x=np.log10(shock_radius), linestyle=\"--\", color=\"orange\"  )"
   ]
  },
  {
   "cell_type": "code",
   "execution_count": null,
   "id": "118c52c2",
   "metadata": {},
   "outputs": [],
   "source": [
    "stp_idx = 4000\n",
    "\n",
    "fig, ax = plot_H_timestep( \n",
    "    np.log10(bh_data[:,1:,0]), bh_H, \n",
    "    stp_idx, \n",
    "    bh_times, bh_bounce_time, \n",
    "    xlabel=r\"$\\log_{10}(r)$ [cm]\",\n",
    "    model_label=\"s22 (bh)\",\n",
    "    #ylim=(-1E3,1E3)\n",
    ")\n",
    "\n",
    "# get the idx of the pb-time\n",
    "t_pb = bh_times[stp_idx] - bh_bounce_time\n",
    "t_pb_idx = np.abs( s22_rt_data[:,0] - t_pb ).argmin()\n",
    "\n",
    "shock_radius = s22_rt_data[t_pb_idx,2]\n",
    "\n",
    "ax.axvline( x=np.log10(shock_radius), linestyle=\"--\", color=\"orange\"  )"
   ]
  }
 ],
 "metadata": {
  "kernelspec": {
   "display_name": "Python [conda env:push-gr]",
   "language": "python",
   "name": "conda-env-push-gr-py"
  },
  "language_info": {
   "codemirror_mode": {
    "name": "ipython",
    "version": 3
   },
   "file_extension": ".py",
   "mimetype": "text/x-python",
   "name": "python",
   "nbconvert_exporter": "python",
   "pygments_lexer": "ipython3",
   "version": "3.10.0"
  }
 },
 "nbformat": 4,
 "nbformat_minor": 5
}
